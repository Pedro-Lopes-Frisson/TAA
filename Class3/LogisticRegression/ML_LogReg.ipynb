{
 "cells": [
  {
   "cell_type": "markdown",
   "metadata": {},
   "source": [
    "# Lab 3 - Logistic Regression\n",
    "\n",
    "## PART 1: Unregularized Logistic Regression ##\n",
    "\n",
    "**Objectives**: Implement Unregularized Logistic Regression and get to see it works on data. "
   ]
  },
  {
   "cell_type": "markdown",
   "metadata": {},
   "source": [
    "**Problem:** Build a Logistic Regression model to predict whether a student gets admitted into a university. Suppose that you are the administrator of a university department and you want to determine each applicant's chance of admission based on their results on two exams. You have historical data from previous applicants that you can use as a training set for Logistic Regression. For each training example, you have the applicant's scores on two exams and the admissions decision. \n",
    "\n",
    "Your task is to build a classification model that estimates an applicant's probability of admission based on the scores from those two exams.\n"
   ]
  },
  {
   "cell_type": "code",
   "execution_count": 139,
   "metadata": {},
   "outputs": [],
   "source": [
    "#Import relevant libraries\n",
    "import numpy as np\n",
    "import matplotlib.pyplot as plt\n",
    "import pandas as pd"
   ]
  },
  {
   "cell_type": "markdown",
   "metadata": {},
   "source": [
    "## Load Data\n",
    "\n",
    "The file *ex2data1.txt* contains the dataset for this problem. The 1st and the 2nd columns are the scores from the exams (X), the 3rd column (y) indicates if the student was admitted (1) or not admitted (0). \n",
    "\n",
    "Load data, using function pd.read_csv from panda library. \n",
    "Extract X (the features) and y (the labels). "
   ]
  },
  {
   "cell_type": "code",
   "execution_count": 140,
   "metadata": {},
   "outputs": [],
   "source": [
    "data=pd.read_csv(\"ex2data1.txt\",header=None)\n",
    "\n",
    "#create column names\n",
    "data.columns = [\"exame1\", \"exame2\", \"class\"]\n",
    "\n",
    "X= data.values[:,0:2]\n",
    "y= data.values[:,2]\n"
   ]
  },
  {
   "cell_type": "code",
   "execution_count": 141,
   "metadata": {},
   "outputs": [
    {
     "data": {
      "text/html": [
       "<div>\n",
       "<style scoped>\n",
       "    .dataframe tbody tr th:only-of-type {\n",
       "        vertical-align: middle;\n",
       "    }\n",
       "\n",
       "    .dataframe tbody tr th {\n",
       "        vertical-align: top;\n",
       "    }\n",
       "\n",
       "    .dataframe thead th {\n",
       "        text-align: right;\n",
       "    }\n",
       "</style>\n",
       "<table border=\"1\" class=\"dataframe\">\n",
       "  <thead>\n",
       "    <tr style=\"text-align: right;\">\n",
       "      <th></th>\n",
       "      <th>exame1</th>\n",
       "      <th>exame2</th>\n",
       "      <th>class</th>\n",
       "    </tr>\n",
       "  </thead>\n",
       "  <tbody>\n",
       "    <tr>\n",
       "      <th>0</th>\n",
       "      <td>34.623660</td>\n",
       "      <td>78.024693</td>\n",
       "      <td>0</td>\n",
       "    </tr>\n",
       "    <tr>\n",
       "      <th>1</th>\n",
       "      <td>30.286711</td>\n",
       "      <td>43.894998</td>\n",
       "      <td>0</td>\n",
       "    </tr>\n",
       "    <tr>\n",
       "      <th>2</th>\n",
       "      <td>35.847409</td>\n",
       "      <td>72.902198</td>\n",
       "      <td>0</td>\n",
       "    </tr>\n",
       "    <tr>\n",
       "      <th>3</th>\n",
       "      <td>60.182599</td>\n",
       "      <td>86.308552</td>\n",
       "      <td>1</td>\n",
       "    </tr>\n",
       "    <tr>\n",
       "      <th>4</th>\n",
       "      <td>79.032736</td>\n",
       "      <td>75.344376</td>\n",
       "      <td>1</td>\n",
       "    </tr>\n",
       "  </tbody>\n",
       "</table>\n",
       "</div>"
      ],
      "text/plain": [
       "      exame1     exame2  class\n",
       "0  34.623660  78.024693      0\n",
       "1  30.286711  43.894998      0\n",
       "2  35.847409  72.902198      0\n",
       "3  60.182599  86.308552      1\n",
       "4  79.032736  75.344376      1"
      ]
     },
     "execution_count": 141,
     "metadata": {},
     "output_type": "execute_result"
    }
   ],
   "source": [
    "#a few examples from the dataset \n",
    "data.head()"
   ]
  },
  {
   "cell_type": "code",
   "execution_count": 142,
   "metadata": {},
   "outputs": [
    {
     "data": {
      "text/html": [
       "<div>\n",
       "<style scoped>\n",
       "    .dataframe tbody tr th:only-of-type {\n",
       "        vertical-align: middle;\n",
       "    }\n",
       "\n",
       "    .dataframe tbody tr th {\n",
       "        vertical-align: top;\n",
       "    }\n",
       "\n",
       "    .dataframe thead th {\n",
       "        text-align: right;\n",
       "    }\n",
       "</style>\n",
       "<table border=\"1\" class=\"dataframe\">\n",
       "  <thead>\n",
       "    <tr style=\"text-align: right;\">\n",
       "      <th></th>\n",
       "      <th>exame1</th>\n",
       "      <th>exame2</th>\n",
       "      <th>class</th>\n",
       "    </tr>\n",
       "  </thead>\n",
       "  <tbody>\n",
       "    <tr>\n",
       "      <th>count</th>\n",
       "      <td>100.000000</td>\n",
       "      <td>100.000000</td>\n",
       "      <td>100.000000</td>\n",
       "    </tr>\n",
       "    <tr>\n",
       "      <th>mean</th>\n",
       "      <td>65.644274</td>\n",
       "      <td>66.221998</td>\n",
       "      <td>0.600000</td>\n",
       "    </tr>\n",
       "    <tr>\n",
       "      <th>std</th>\n",
       "      <td>19.458222</td>\n",
       "      <td>18.582783</td>\n",
       "      <td>0.492366</td>\n",
       "    </tr>\n",
       "    <tr>\n",
       "      <th>min</th>\n",
       "      <td>30.058822</td>\n",
       "      <td>30.603263</td>\n",
       "      <td>0.000000</td>\n",
       "    </tr>\n",
       "    <tr>\n",
       "      <th>25%</th>\n",
       "      <td>50.919511</td>\n",
       "      <td>48.179205</td>\n",
       "      <td>0.000000</td>\n",
       "    </tr>\n",
       "    <tr>\n",
       "      <th>50%</th>\n",
       "      <td>67.032988</td>\n",
       "      <td>67.682381</td>\n",
       "      <td>1.000000</td>\n",
       "    </tr>\n",
       "    <tr>\n",
       "      <th>75%</th>\n",
       "      <td>80.212529</td>\n",
       "      <td>79.360605</td>\n",
       "      <td>1.000000</td>\n",
       "    </tr>\n",
       "    <tr>\n",
       "      <th>max</th>\n",
       "      <td>99.827858</td>\n",
       "      <td>98.869436</td>\n",
       "      <td>1.000000</td>\n",
       "    </tr>\n",
       "  </tbody>\n",
       "</table>\n",
       "</div>"
      ],
      "text/plain": [
       "           exame1      exame2       class\n",
       "count  100.000000  100.000000  100.000000\n",
       "mean    65.644274   66.221998    0.600000\n",
       "std     19.458222   18.582783    0.492366\n",
       "min     30.058822   30.603263    0.000000\n",
       "25%     50.919511   48.179205    0.000000\n",
       "50%     67.032988   67.682381    1.000000\n",
       "75%     80.212529   79.360605    1.000000\n",
       "max     99.827858   98.869436    1.000000"
      ]
     },
     "execution_count": 142,
     "metadata": {},
     "output_type": "execute_result"
    }
   ],
   "source": [
    "data.describe()\n",
    "\n",
    "#data.info"
   ]
  },
  {
   "cell_type": "markdown",
   "metadata": {},
   "source": [
    "### Plot Data\n",
    "Create a scatter plot of data similar to Fig.1 (using plt.scatter). Students with higher test score for both exam were admitted into the university as expected.\n",
    "\n",
    "<img src=\"images/f1.png\" style=\"width:350px;height:250px;\">\n",
    "<caption><center> **Fig. 1** : **file ex2data1.txt** </center></caption>\n"
   ]
  },
  {
   "cell_type": "code",
   "execution_count": 143,
   "metadata": {},
   "outputs": [
    {
     "data": {
      "text/plain": [
       "<matplotlib.collections.PathCollection at 0x7f12b997f040>"
      ]
     },
     "execution_count": 143,
     "metadata": {},
     "output_type": "execute_result"
    },
    {
     "data": {
      "image/png": "[encoded data removed]",
      "text/plain": [
       "<Figure size 432x288 with 1 Axes>"
      ]
     },
     "metadata": {
      "needs_background": "light"
     },
     "output_type": "display_data"
    }
   ],
   "source": [
    "pos=(y==1)\n",
    "neg=(y==0)\n",
    "pos = pos.reshape(len(y), 1)\n",
    "neg = neg.reshape(len(y), 1)\n",
    "plt.scatter(X[pos[:,0],0],X[pos[:,0],1],c=\"r\",marker=\"+\")\n",
    "plt.scatter(X[neg[:,0],0],X[neg[:,0],1],c=\"b\",marker=\"o\")"
   ]
  },
  {
   "cell_type": "markdown",
   "metadata": {},
   "source": [
    "### Sigmoid function\n",
    "\n",
    "Complete *sigmoid* function that computes $ g(z) = \\frac{1}{(1+e^{-z})}$. \n"
   ]
  },
  {
   "cell_type": "code",
   "execution_count": 173,
   "metadata": {},
   "outputs": [],
   "source": [
    "def sigmoid(z):\n",
    "    \"\"\"\n",
    "    return the sigmoid of z\n",
    "    \"\"\"\n",
    "    \n",
    "    gz= 1 / (1 + np.exp(-z))\n",
    "    \n",
    "    return gz"
   ]
  },
  {
   "cell_type": "code",
   "execution_count": 145,
   "metadata": {},
   "outputs": [
    {
     "name": "stdout",
     "output_type": "stream",
     "text": [
      "0.5 == 0.5?\n",
      "True\n"
     ]
    }
   ],
   "source": [
    "# Test the sigmoid function for z=0 => ANSWER =0.5 \n",
    "print(f\"{sigmoid(0)} == 0.5?\\n{sigmoid(0)==0.5}\")\n"
   ]
  },
  {
   "cell_type": "markdown",
   "metadata": {},
   "source": [
    "### Compute the Cost Function and Gradient\n",
    "\n",
    "Recall that the Logistic Regression model is defined as:    $h_{\\theta}(x^{(i)})=  \\frac{1}{1+e^{-\\theta (x^{(i)})}}$\n",
    "\n",
    "The cost function in Logistic Regression is: $J(\\theta) = \\frac{1}{m} \\sum_{i=1}^{m} [ -y^{(i)}log(h_{\\theta}(x^{(i)})) - (1 - y^{(i)})log(1 - (h_{\\theta}(x^{(i)}))]$\n",
    "\n",
    "The gradient of $J(\\theta)$ is a vector of the same length as $\\theta$  where the jth element (for j = 0, 1,…. n) is defined as:\n",
    "$ \\frac{\\partial J(\\theta)}{\\partial \\theta_j} = \\frac{1}{m} \\sum_{i=1}^{m} (h_{\\theta}(x^{(i)}) - y^{(i)})x_j^{(i)}$\n",
    "\n",
    "Complete function *costFunction* to return $J(\\theta)$ and the gradient ((partial derivative of $J(\\theta)$ with respect to each $\\theta$) for logistic regression. \n"
   ]
  },
  {
   "cell_type": "code",
   "execution_count": 146,
   "metadata": {},
   "outputs": [],
   "source": [
    "def costFunction(theta, X, y):\n",
    "    \"\"\"\n",
    "    Takes in numpy array theta, x and y and return the logistic regression cost function and gradient\n",
    "    \"\"\"\n",
    "    \n",
    "    #number of training examples \n",
    "    m=len(y)\n",
    "    \n",
    "    #vector of the model predictions for all training examples   \n",
    "    h = 1 / (1 + np.exp(-np.dot(X,theta)))\n",
    "         \n",
    "    error = (-y * np.log(h)) - ((1-y)*np.log(1-h))\n",
    "\n",
    "    #cost function\n",
    "    cost = 1/m * sum(error)\n",
    "       \n",
    "    #vector of gradients of all model parameters theta   \n",
    "    grad = 1/m * np.dot(X.transpose(),(h - y))\n",
    "    \n",
    "    return cost[0] , grad"
   ]
  },
  {
   "cell_type": "markdown",
   "metadata": {},
   "source": [
    "\n",
    "### Feature normalization\n",
    "Apply the same normalization as in Lab 2 (PART 2 Multivariable Linear Regression). "
   ]
  },
  {
   "cell_type": "code",
   "execution_count": 147,
   "metadata": {},
   "outputs": [],
   "source": [
    "def featureNormalization(X):\n",
    "    \"\"\"\n",
    "    Take in numpy array of X values and return normalize X values,\n",
    "    the mean and standard deviation of each feature\n",
    "    \"\"\"\n",
    "    mean= np.mean(X,axis=0)\n",
    "    std = np.std(X,axis=0)\n",
    "    \n",
    "    \n",
    "    X_norm = (X - mean) / std\n",
    "    \n",
    "    return X_norm , mean , std"
   ]
  },
  {
   "cell_type": "code",
   "execution_count": 148,
   "metadata": {
    "scrolled": true
   },
   "outputs": [
    {
     "name": "stdout",
     "output_type": "stream",
     "text": [
      "(100, 3)\n",
      "(100, 1)\n",
      "(3, 1)\n",
      "Cost of initial theta is 0.693\n",
      "Gradient at initial theta (zeros): [[-0.1       ]\n",
      " [-0.28122914]\n",
      " [-0.25098615]]\n"
     ]
    }
   ],
   "source": [
    "#Run featureNormalization to normalize X, store the means and stds.\n",
    "\n",
    "X= data.values[:,0:2]\n",
    "y= data.values[:,2]\n",
    "\n",
    "m = len (y)\n",
    "\n",
    "X, X_mean, X_std = featureNormalization(X)\n",
    "\n",
    "#After normalizing the features, add an extra column of 1's corresponding to x0 = 1.\n",
    "X = np.append(np.ones((m,1)) ,X, axis=1)\n",
    "y = y.reshape((m,1))\n",
    "\n",
    "# Inicialize vector theta = 0\n",
    "initial_theta = np.zeros((3,1))\n",
    "print(X.shape)\n",
    "print(y.shape)\n",
    "print(initial_theta.shape)\n",
    "#Run costFunction\n",
    "cost, grad= costFunction(initial_theta , X, y)\n",
    "\n",
    "print(\"Cost of initial theta is\",round(cost,3) )   # ANSWER: Cost of initial theta is 0.693\n",
    "print(\"Gradient at initial theta (zeros):\",grad)  #ANSWER: Gradient at initial theta (zeros): [[-0.1 ] [-0.28122914] [-0.25098615]]"
   ]
  },
  {
   "cell_type": "markdown",
   "metadata": {},
   "source": [
    "### Gradient Descent\n",
    "Implement gradient descent in the function *gradientDescent*. \n",
    "The gradient descent algorithm is very similar to linear regression. \n",
    "\n",
    "The only difference is that the hypothesis is now the sigmoid function:  $h_{\\theta}(x)=  \\frac{1}{1+e^{-\\theta^T x}}$\n",
    "\n",
    "The loop structure is written, you need to supply the updates for $\\theta$  within each iteration."
   ]
  },
  {
   "cell_type": "code",
   "execution_count": 149,
   "metadata": {},
   "outputs": [],
   "source": [
    "def gradientDescent(X,y,theta,alpha,num_iters):\n",
    "    \"\"\"\n",
    "    Take in numpy array X, y and theta and update theta by taking num_iters gradient steps\n",
    "    with learning rate of alpha\n",
    "    \n",
    "    return theta and the list of the cost of theta during each iteration\n",
    "    \"\"\"\n",
    "    #number of training examples\n",
    "    m=len(y)\n",
    "    J_history =[]\n",
    "    \n",
    "    for i in range(num_iters):\n",
    "        cost, grad = costFunction(theta, X, y)\n",
    "        theta = theta - alpha * grad\n",
    "        J_history.append(cost)\n",
    "    \n",
    "    return theta , J_history"
   ]
  },
  {
   "cell_type": "code",
   "execution_count": 150,
   "metadata": {},
   "outputs": [
    {
     "name": "stdout",
     "output_type": "stream",
     "text": [
      "Theta optimized by gradient descent: [[1.50684266]\n",
      " [3.54336363]\n",
      " [3.29044192]]\n",
      "The cost for the optimized theta: 0.205\n"
     ]
    }
   ],
   "source": [
    "# Run gradientDescent with learning rate 0.5 and 400 iterations. \n",
    "\n",
    "theta , J_history = gradientDescent(X, y, np.zeros((3,1)) , 0.5, 400)\n",
    "\n",
    "print(\"Theta optimized by gradient descent:\",theta)\n",
    "\n",
    "print(\"The cost for the optimized theta:\",round(J_history[-1],3))  #ANSWER: The cost for the optimized theta: 0.205"
   ]
  },
  {
   "cell_type": "markdown",
   "metadata": {},
   "source": [
    "### Plot the Cost Function \n",
    "Choose 400 iterations. Try different values of the learning  rate = [0.01, 0.1, 0.5, 1]\n",
    "and get plots similar to Fig. 2. \n",
    "\n",
    "<img src=\"images/f6.png\" style=\"width:350px;height:250px;\">\n",
    "<caption><center> **Fig. 2** : **Cost function evolution for varying learning rates ** </center></caption>"
   ]
  },
  {
   "cell_type": "code",
   "execution_count": 177,
   "metadata": {},
   "outputs": [
    {
     "name": "stdout",
     "output_type": "stream",
     "text": [
      "h(x) =0.27 + 0.75x1 + 0.67x2\n",
      "h(x) =0.92 + 2.31x1 + 2.11x2\n",
      "h(x) =1.51 + 3.54x1 + 3.29x2\n",
      "h(x) =1.66 + 3.87x1 + 3.6x2\n"
     ]
    },
    {
     "data": {
      "image/png": "[encoded data removed]",
      "text/plain": [
       "<Figure size 432x288 with 1 Axes>"
      ]
     },
     "metadata": {
      "needs_background": "light"
     },
     "output_type": "display_data"
    }
   ],
   "source": [
    "lr=[0.01, 0.1, 0.5, 1]\n",
    "theta2 = []\n",
    "J_history2 = []\n",
    "for a in lr:\n",
    "    temp_th, temp_J = gradientDescent(X,y,np.zeros((3,1)),a,400)\n",
    "    print(\"h(x) =\"+str(round(temp_th[0,0],2))+\" + \"+str(round(temp_th[1,0],2))+\"x1 + \"+str(round(temp_th[2,0],2))+\"x2\")\n",
    "    theta2.append(temp_th)\n",
    "    J_history2.append(temp_J)\n",
    "\n",
    "plt.plot(J_history2[0])\n",
    "plt.plot(J_history2[1])\n",
    "plt.plot(J_history2[2])\n",
    "plt.plot(J_history2[3])\n",
    "#plt.plot(J_history2[4])\n",
    "    \n",
    "    \n",
    "theta=theta2[3]"
   ]
  },
  {
   "cell_type": "markdown",
   "metadata": {},
   "source": [
    "### Plotting the decision boundary\n",
    "   \n",
    "Our model is sigmoid function:  $h_{\\theta}(x)=  \\frac{1}{1+e^{-\\theta^T x}}$\n",
    "\n",
    "If $h_\\theta(x) > 0.5$ => predict class \"1\", that is $\\theta^Tx> 0$ => predict class \"1\"\n",
    "\n",
    "If $h_\\theta(x) < 0.5$ => predict class \"0\", that is $\\theta^Tx< 0$ => predict class \"0\" \n",
    "\n",
    "$\\theta^Tx = 0$  is the decision boundary. \n",
    "\n",
    "In this particular case $\\theta_0 + \\theta_1x_1 + \\theta_2x_2 = 0$ is the decision boundary-   \n",
    "\n",
    "Since, we plot $x_1$ against $x_2$, the boundary line will be the equation $ x_2 = \\frac{-(\\theta_0+\\theta_1x_1)}{\\theta_2}$\n",
    "\n",
    "Plot the data and the decision boundary. You should get a figure similar to Fig.3.\n",
    "\n",
    "<img src=\"images/f2.png\" style=\"width:350px;height:250px;\">\n",
    "<caption><center> **Fig. 3** : **Training data vs Decision boundary** </center></caption>"
   ]
  },
  {
   "cell_type": "code",
   "execution_count": 159,
   "metadata": {},
   "outputs": [
    {
     "data": {
      "text/plain": [
       "[<matplotlib.lines.Line2D at 0x7f12b2f6a220>]"
      ]
     },
     "execution_count": 159,
     "metadata": {},
     "output_type": "execute_result"
    },
    {
     "data": {
      "image/png": "[encoded data removed]",
      "text/plain": [
       "<Figure size 432x288 with 1 Axes>"
      ]
     },
     "metadata": {
      "needs_background": "light"
     },
     "output_type": "display_data"
    }
   ],
   "source": [
    "#Create Fig.3 (using plt.scatter) , see Fig.1 \n",
    "pos=(y==1)\n",
    "neg=(y==0)\n",
    "plt.scatter(X[pos[:,0],1],X[pos[:,0],2],c=\"r\",marker=\"+\")\n",
    "plt.scatter(X[neg[:,0],1],X[neg[:,0],2],c=\"b\",marker=\"o\")\n",
    "\n",
    "\n",
    "#Sugestion how to plot the decision boundary (the green line)\n",
    "x_value= np.array([np.min(X[:,1]),np.max(X[:,1])])\n",
    "y_value=-(theta[0] +theta[1]*x_value)/theta[2]\n",
    "plt.plot(x_value,y_value, \"g\")\n",
    "\n"
   ]
  },
  {
   "cell_type": "markdown",
   "metadata": {},
   "source": [
    "### Prediction\n",
    "\n",
    "For a student with Exam1 score of 45 and Exam2 score of 85, use the learned model to compute what is the admission probability of this student. The answer is around 77% probability (0.767). "
   ]
  },
  {
   "cell_type": "code",
   "execution_count": 179,
   "metadata": {},
   "outputs": [
    {
     "name": "stdout",
     "output_type": "stream",
     "text": [
      "For a student with scores 45 and 85, we predict an admission probability of 0.768\n"
     ]
    }
   ],
   "source": [
    "x_test = np.array([45,85])\n",
    "#Normalize the values\n",
    "x_test = (x_test - X_mean)/X_std\n",
    "#Add one\n",
    "x_test = np.append(np.ones(1),x_test)\n",
    "#Compute the prediction (the probability for admission)\n",
    "\n",
    "#np.dot(x_test,theta)\n",
    "prob = sigmoid(x_test.dot(theta))\n",
    "\n",
    "print(\"For a student with scores 45 and 85, we predict an admission probability of\",np.round(prob[0],3))"
   ]
  },
  {
   "cell_type": "markdown",
   "metadata": {},
   "source": [
    "### Accuracy on training set \n",
    "\n",
    "Evaluate how well the learned model predicts on the training set. \n",
    "\n",
    "Your task is to complete the function *classifierPredict*. \n",
    "\n",
    "The *classifierPredict* function returns a boolean array with True if the probability of admission into university is more than 0.5 and False otherwise. Taking the sum(p==y) adds up all instances where it correctly predicts the given y values (the labels)."
   ]
  },
  {
   "cell_type": "code",
   "execution_count": 181,
   "metadata": {},
   "outputs": [],
   "source": [
    "def classifierPredict(theta,X):\n",
    "    \"\"\"\n",
    "    take in numpy array of theta and X and predict the class \n",
    "    \"\"\"\n",
    "    predictions = X.dot(theta)\n",
    "    \n",
    "    return predictions>0"
   ]
  },
  {
   "cell_type": "code",
   "execution_count": 182,
   "metadata": {},
   "outputs": [
    {
     "name": "stdout",
     "output_type": "stream",
     "text": [
      "[[False]\n",
      " [False]\n",
      " [False]\n",
      " [ True]\n",
      " [ True]\n",
      " [False]\n",
      " [ True]\n",
      " [False]\n",
      " [ True]\n",
      " [ True]\n",
      " [ True]\n",
      " [False]\n",
      " [ True]\n",
      " [ True]\n",
      " [False]\n",
      " [ True]\n",
      " [False]\n",
      " [False]\n",
      " [ True]\n",
      " [ True]\n",
      " [False]\n",
      " [ True]\n",
      " [False]\n",
      " [False]\n",
      " [ True]\n",
      " [ True]\n",
      " [ True]\n",
      " [ True]\n",
      " [False]\n",
      " [False]\n",
      " [ True]\n",
      " [ True]\n",
      " [False]\n",
      " [False]\n",
      " [False]\n",
      " [False]\n",
      " [ True]\n",
      " [ True]\n",
      " [False]\n",
      " [False]\n",
      " [ True]\n",
      " [False]\n",
      " [ True]\n",
      " [ True]\n",
      " [False]\n",
      " [False]\n",
      " [ True]\n",
      " [ True]\n",
      " [ True]\n",
      " [ True]\n",
      " [ True]\n",
      " [ True]\n",
      " [ True]\n",
      " [False]\n",
      " [False]\n",
      " [False]\n",
      " [ True]\n",
      " [ True]\n",
      " [ True]\n",
      " [ True]\n",
      " [ True]\n",
      " [False]\n",
      " [False]\n",
      " [False]\n",
      " [False]\n",
      " [False]\n",
      " [ True]\n",
      " [False]\n",
      " [ True]\n",
      " [ True]\n",
      " [False]\n",
      " [ True]\n",
      " [ True]\n",
      " [ True]\n",
      " [ True]\n",
      " [ True]\n",
      " [ True]\n",
      " [ True]\n",
      " [False]\n",
      " [ True]\n",
      " [ True]\n",
      " [ True]\n",
      " [ True]\n",
      " [False]\n",
      " [ True]\n",
      " [ True]\n",
      " [False]\n",
      " [ True]\n",
      " [ True]\n",
      " [False]\n",
      " [ True]\n",
      " [ True]\n",
      " [False]\n",
      " [ True]\n",
      " [ True]\n",
      " [ True]\n",
      " [ True]\n",
      " [ True]\n",
      " [False]\n",
      " [ True]]\n",
      "Train Accuracy: 89 %\n"
     ]
    }
   ],
   "source": [
    "p=classifierPredict(theta,X)\n",
    "print(p)\n",
    "print(\"Train Accuracy:\", sum(p==y)[0],\"%\")  #ANSWER: Train Accuracy: 89 %"
   ]
  },
  {
   "cell_type": "markdown",
   "metadata": {},
   "source": [
    "## sklearn library to solve the same problem "
   ]
  },
  {
   "cell_type": "code",
   "execution_count": 188,
   "metadata": {},
   "outputs": [
    {
     "name": "stdout",
     "output_type": "stream",
     "text": [
      "Accuracy of log reg classifier\n",
      "0.89\n"
     ]
    }
   ],
   "source": [
    "from sklearn.linear_model import LogisticRegression\n",
    "\n",
    "logitN = LogisticRegression()\n",
    "r = y.reshape((len(y)))\n",
    "logitN.fit(X,r)\n",
    "print('Accuracy of log reg classifier')\n",
    "print(logitN.score(X, r))"
   ]
  },
  {
   "cell_type": "code",
   "execution_count": 187,
   "metadata": {},
   "outputs": [],
   "source": []
  },
  {
   "cell_type": "code",
   "execution_count": null,
   "metadata": {},
   "outputs": [],
   "source": []
  }
 ],
 "metadata": {
  "kernelspec": {
   "display_name": "Python 3",
   "language": "python",
   "name": "python3"
  },
  "language_info": {
   "codemirror_mode": {
    "name": "ipython",
    "version": 3
   },
   "file_extension": ".py",
   "mimetype": "text/x-python",
   "name": "python",
   "nbconvert_exporter": "python",
   "pygments_lexer": "ipython3",
   "version": "3.8.8"
  }
 },
 "nbformat": 4,
 "nbformat_minor": 2
}
