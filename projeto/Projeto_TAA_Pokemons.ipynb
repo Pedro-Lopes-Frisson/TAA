{
 "cells": [
  {
   "cell_type": "code",
   "execution_count": 15,
   "id": "3c576954",
   "metadata": {},
   "outputs": [],
   "source": [
    "# Import Libraries\n",
    "\n",
    "import pandas as pd\n",
    "import numpy as np\n",
    "import matplotlib.pyplot as plt"
   ]
  },
  {
   "cell_type": "code",
   "execution_count": 16,
   "id": "b8ad8715",
   "metadata": {},
   "outputs": [],
   "source": [
    "pokemon = pd.read_csv(\"pokemon.csv\") # Dataset pokemon stats\n",
    "combats = pd.read_csv(\"combats.csv\") # Dataset pokemon battles and who won"
   ]
  },
  {
   "cell_type": "code",
   "execution_count": 17,
   "id": "1c43d96e",
   "metadata": {},
   "outputs": [
    {
     "data": {
      "text/html": [
       "<div>\n",
       "<style scoped>\n",
       "    .dataframe tbody tr th:only-of-type {\n",
       "        vertical-align: middle;\n",
       "    }\n",
       "\n",
       "    .dataframe tbody tr th {\n",
       "        vertical-align: top;\n",
       "    }\n",
       "\n",
       "    .dataframe thead th {\n",
       "        text-align: right;\n",
       "    }\n",
       "</style>\n",
       "<table border=\"1\" class=\"dataframe\">\n",
       "  <thead>\n",
       "    <tr style=\"text-align: right;\">\n",
       "      <th></th>\n",
       "      <th>#</th>\n",
       "      <th>Name</th>\n",
       "      <th>Type 1</th>\n",
       "      <th>Type 2</th>\n",
       "      <th>HP</th>\n",
       "      <th>Attack</th>\n",
       "      <th>Defense</th>\n",
       "      <th>Sp. Atk</th>\n",
       "      <th>Sp. Def</th>\n",
       "      <th>Speed</th>\n",
       "      <th>Generation</th>\n",
       "      <th>Legendary</th>\n",
       "    </tr>\n",
       "  </thead>\n",
       "  <tbody>\n",
       "    <tr>\n",
       "      <th>0</th>\n",
       "      <td>1</td>\n",
       "      <td>Bulbasaur</td>\n",
       "      <td>Grass</td>\n",
       "      <td>Poison</td>\n",
       "      <td>45</td>\n",
       "      <td>49</td>\n",
       "      <td>49</td>\n",
       "      <td>65</td>\n",
       "      <td>65</td>\n",
       "      <td>45</td>\n",
       "      <td>1</td>\n",
       "      <td>False</td>\n",
       "    </tr>\n",
       "    <tr>\n",
       "      <th>1</th>\n",
       "      <td>2</td>\n",
       "      <td>Ivysaur</td>\n",
       "      <td>Grass</td>\n",
       "      <td>Poison</td>\n",
       "      <td>60</td>\n",
       "      <td>62</td>\n",
       "      <td>63</td>\n",
       "      <td>80</td>\n",
       "      <td>80</td>\n",
       "      <td>60</td>\n",
       "      <td>1</td>\n",
       "      <td>False</td>\n",
       "    </tr>\n",
       "    <tr>\n",
       "      <th>2</th>\n",
       "      <td>3</td>\n",
       "      <td>Venusaur</td>\n",
       "      <td>Grass</td>\n",
       "      <td>Poison</td>\n",
       "      <td>80</td>\n",
       "      <td>82</td>\n",
       "      <td>83</td>\n",
       "      <td>100</td>\n",
       "      <td>100</td>\n",
       "      <td>80</td>\n",
       "      <td>1</td>\n",
       "      <td>False</td>\n",
       "    </tr>\n",
       "    <tr>\n",
       "      <th>3</th>\n",
       "      <td>4</td>\n",
       "      <td>Mega Venusaur</td>\n",
       "      <td>Grass</td>\n",
       "      <td>Poison</td>\n",
       "      <td>80</td>\n",
       "      <td>100</td>\n",
       "      <td>123</td>\n",
       "      <td>122</td>\n",
       "      <td>120</td>\n",
       "      <td>80</td>\n",
       "      <td>1</td>\n",
       "      <td>False</td>\n",
       "    </tr>\n",
       "    <tr>\n",
       "      <th>4</th>\n",
       "      <td>5</td>\n",
       "      <td>Charmander</td>\n",
       "      <td>Fire</td>\n",
       "      <td>NaN</td>\n",
       "      <td>39</td>\n",
       "      <td>52</td>\n",
       "      <td>43</td>\n",
       "      <td>60</td>\n",
       "      <td>50</td>\n",
       "      <td>65</td>\n",
       "      <td>1</td>\n",
       "      <td>False</td>\n",
       "    </tr>\n",
       "  </tbody>\n",
       "</table>\n",
       "</div>"
      ],
      "text/plain": [
       "   #           Name Type 1  Type 2  HP  Attack  Defense  Sp. Atk  Sp. Def  \\\n",
       "0  1      Bulbasaur  Grass  Poison  45      49       49       65       65   \n",
       "1  2        Ivysaur  Grass  Poison  60      62       63       80       80   \n",
       "2  3       Venusaur  Grass  Poison  80      82       83      100      100   \n",
       "3  4  Mega Venusaur  Grass  Poison  80     100      123      122      120   \n",
       "4  5     Charmander   Fire     NaN  39      52       43       60       50   \n",
       "\n",
       "   Speed  Generation  Legendary  \n",
       "0     45           1      False  \n",
       "1     60           1      False  \n",
       "2     80           1      False  \n",
       "3     80           1      False  \n",
       "4     65           1      False  "
      ]
     },
     "execution_count": 17,
     "metadata": {},
     "output_type": "execute_result"
    }
   ],
   "source": [
    "pokemon.head()"
   ]
  },
  {
   "cell_type": "code",
   "execution_count": 18,
   "id": "81432e55",
   "metadata": {},
   "outputs": [
    {
     "data": {
      "text/html": [
       "<div>\n",
       "<style scoped>\n",
       "    .dataframe tbody tr th:only-of-type {\n",
       "        vertical-align: middle;\n",
       "    }\n",
       "\n",
       "    .dataframe tbody tr th {\n",
       "        vertical-align: top;\n",
       "    }\n",
       "\n",
       "    .dataframe thead th {\n",
       "        text-align: right;\n",
       "    }\n",
       "</style>\n",
       "<table border=\"1\" class=\"dataframe\">\n",
       "  <thead>\n",
       "    <tr style=\"text-align: right;\">\n",
       "      <th></th>\n",
       "      <th>First_pokemon</th>\n",
       "      <th>Second_pokemon</th>\n",
       "      <th>Winner</th>\n",
       "    </tr>\n",
       "  </thead>\n",
       "  <tbody>\n",
       "    <tr>\n",
       "      <th>0</th>\n",
       "      <td>266</td>\n",
       "      <td>298</td>\n",
       "      <td>298</td>\n",
       "    </tr>\n",
       "    <tr>\n",
       "      <th>1</th>\n",
       "      <td>702</td>\n",
       "      <td>701</td>\n",
       "      <td>701</td>\n",
       "    </tr>\n",
       "    <tr>\n",
       "      <th>2</th>\n",
       "      <td>191</td>\n",
       "      <td>668</td>\n",
       "      <td>668</td>\n",
       "    </tr>\n",
       "    <tr>\n",
       "      <th>3</th>\n",
       "      <td>237</td>\n",
       "      <td>683</td>\n",
       "      <td>683</td>\n",
       "    </tr>\n",
       "    <tr>\n",
       "      <th>4</th>\n",
       "      <td>151</td>\n",
       "      <td>231</td>\n",
       "      <td>151</td>\n",
       "    </tr>\n",
       "  </tbody>\n",
       "</table>\n",
       "</div>"
      ],
      "text/plain": [
       "   First_pokemon  Second_pokemon  Winner\n",
       "0            266             298     298\n",
       "1            702             701     701\n",
       "2            191             668     668\n",
       "3            237             683     683\n",
       "4            151             231     151"
      ]
     },
     "execution_count": 18,
     "metadata": {},
     "output_type": "execute_result"
    }
   ],
   "source": [
    "combats.head()"
   ]
  },
  {
   "cell_type": "code",
   "execution_count": 19,
   "id": "f8eabdee",
   "metadata": {},
   "outputs": [
    {
     "data": {
      "text/plain": [
       "#             800\n",
       "Name          799\n",
       "Type 1         18\n",
       "Type 2         18\n",
       "HP             94\n",
       "Attack        111\n",
       "Defense       103\n",
       "Sp. Atk       105\n",
       "Sp. Def        92\n",
       "Speed         108\n",
       "Generation      6\n",
       "Legendary       2\n",
       "dtype: int64"
      ]
     },
     "execution_count": 19,
     "metadata": {},
     "output_type": "execute_result"
    }
   ],
   "source": [
    "pokemon.nunique()"
   ]
  },
  {
   "cell_type": "code",
   "execution_count": 20,
   "id": "8de52ea2",
   "metadata": {},
   "outputs": [
    {
     "data": {
      "text/plain": [
       "Text(0, 0.5, 'Frequency')"
      ]
     },
     "execution_count": 20,
     "metadata": {},
     "output_type": "execute_result"
    },
    {
     "data": {
      "image/png": "[encoded data removed]",
      "text/plain": [
       "<Figure size 1008x576 with 1 Axes>"
      ]
     },
     "metadata": {
      "needs_background": "light"
     },
     "output_type": "display_data"
    }
   ],
   "source": [
    "# Plot the number of pokemon present in each category of \"type 1\"\n",
    "ax = pokemon['Type 1'].value_counts().plot(kind='bar',\n",
    "                                    figsize=(14,8),\n",
    "                                    title=\"Pokemons distribution by their type1\")\n",
    "ax.set_xlabel(\"Pokemon Type 1\")\n",
    "ax.set_ylabel(\"Frequency\")"
   ]
  },
  {
   "cell_type": "code",
   "execution_count": 21,
   "id": "23ad459b",
   "metadata": {},
   "outputs": [
    {
     "data": {
      "text/plain": [
       "Text(0, 0.5, 'Frequency')"
      ]
     },
     "execution_count": 21,
     "metadata": {},
     "output_type": "execute_result"
    },
    {
     "data": {
      "image/png": "[encoded data removed]",
      "text/plain": [
       "<Figure size 1008x576 with 1 Axes>"
      ]
     },
     "metadata": {
      "needs_background": "light"
     },
     "output_type": "display_data"
    }
   ],
   "source": [
    "# Plot the number of pokemon present in each category of \"type 1\"\n",
    "ax = pokemon['Type 2'].value_counts().plot(kind='bar',\n",
    "                                    figsize=(14,8),\n",
    "                                    title=\"Number of pokemons based on their type 2\")\n",
    "ax.set_xlabel(\"Pokemon Type 2\")\n",
    "ax.set_ylabel(\"Frequency\")"
   ]
  },
  {
   "cell_type": "markdown",
   "id": "aa90f4c6",
   "metadata": {},
   "source": [
    "### Data Processing\n",
    "check dtpyes for any stange type within the columns"
   ]
  },
  {
   "cell_type": "code",
   "execution_count": null,
   "id": "b05c60f1",
   "metadata": {},
   "outputs": [],
   "source": [
    "\n",
    "\n",
    "\n",
    "\n",
    "print(pokemon.dtypes)\n",
    "\n",
    "print(pokemon.loc[pokemon[\"Type 1\"].str.contains('[^a-zA-Z]')].head())\n",
    "\n",
    "\n",
    "print(pokemon.loc[pokemon[\"Type 2\"].str.contains('[^a-zA-Z]') != False].head())\n",
    "\n",
    "# Some Pokemon Type 2 do not have a value assigned\n",
    "pokemon[\"Type 2\"] = pokemon[\"Type 2\"].fillna(\"NA\")\n",
    "\n",
    "\n",
    "# Check if it was solved\n",
    "print(pokemon.loc[pokemon[\"Type 2\"].str.contains('[^a-zA-Z]') != False].head())\n"
   ]
  },
  {
   "cell_type": "code",
   "execution_count": 23,
   "id": "e30f5fcf",
   "metadata": {},
   "outputs": [
    {
     "name": "stdout",
     "output_type": "stream",
     "text": [
      "#\n",
      "count    800.0000\n",
      "mean     400.5000\n",
      "std      231.0844\n",
      "min        1.0000\n",
      "25%      200.7500\n",
      "50%      400.5000\n",
      "75%      600.2500\n",
      "max      800.0000\n",
      "Name: #, dtype: float64\n",
      "Name\n",
      "count          799\n",
      "unique         799\n",
      "top       Graveler\n",
      "freq             1\n",
      "Name: Name, dtype: object\n",
      "Type 1\n",
      "count       800\n",
      "unique       18\n",
      "top       Water\n",
      "freq        112\n",
      "Name: Type 1, dtype: object\n",
      "Type 2\n",
      "count     800\n",
      "unique     19\n",
      "top        NA\n",
      "freq      386\n",
      "Name: Type 2, dtype: object\n",
      "HP\n",
      "count    800.000000\n",
      "mean      69.258750\n",
      "std       25.534669\n",
      "min        1.000000\n",
      "25%       50.000000\n",
      "50%       65.000000\n",
      "75%       80.000000\n",
      "max      255.000000\n",
      "Name: HP, dtype: float64\n",
      "Attack\n",
      "count    800.000000\n",
      "mean      79.001250\n",
      "std       32.457366\n",
      "min        5.000000\n",
      "25%       55.000000\n",
      "50%       75.000000\n",
      "75%      100.000000\n",
      "max      190.000000\n",
      "Name: Attack, dtype: float64\n",
      "Defense\n",
      "count    800.000000\n",
      "mean      73.842500\n",
      "std       31.183501\n",
      "min        5.000000\n",
      "25%       50.000000\n",
      "50%       70.000000\n",
      "75%       90.000000\n",
      "max      230.000000\n",
      "Name: Defense, dtype: float64\n",
      "Sp. Atk\n",
      "count    800.000000\n",
      "mean      72.820000\n",
      "std       32.722294\n",
      "min       10.000000\n",
      "25%       49.750000\n",
      "50%       65.000000\n",
      "75%       95.000000\n",
      "max      194.000000\n",
      "Name: Sp. Atk, dtype: float64\n",
      "Sp. Def\n",
      "count    800.000000\n",
      "mean      71.902500\n",
      "std       27.828916\n",
      "min       20.000000\n",
      "25%       50.000000\n",
      "50%       70.000000\n",
      "75%       90.000000\n",
      "max      230.000000\n",
      "Name: Sp. Def, dtype: float64\n",
      "Speed\n",
      "count    800.000000\n",
      "mean      68.277500\n",
      "std       29.060474\n",
      "min        5.000000\n",
      "25%       45.000000\n",
      "50%       65.000000\n",
      "75%       90.000000\n",
      "max      180.000000\n",
      "Name: Speed, dtype: float64\n",
      "Generation\n",
      "count    800.00000\n",
      "mean       3.32375\n",
      "std        1.66129\n",
      "min        1.00000\n",
      "25%        2.00000\n",
      "50%        3.00000\n",
      "75%        5.00000\n",
      "max        6.00000\n",
      "Name: Generation, dtype: float64\n",
      "Legendary\n",
      "count       800\n",
      "unique        2\n",
      "top       False\n",
      "freq        735\n",
      "Name: Legendary, dtype: object\n"
     ]
    }
   ],
   "source": []
  }
 ],
 "metadata": {
  "kernelspec": {
   "display_name": "Python 3",
   "language": "python",
   "name": "python3"
  },
  "language_info": {
   "codemirror_mode": {
    "name": "ipython",
    "version": 3
   },
   "file_extension": ".py",
   "mimetype": "text/x-python",
   "name": "python",
   "nbconvert_exporter": "python",
   "pygments_lexer": "ipython3",
   "version": "3.8.8"
  }
 },
 "nbformat": 4,
 "nbformat_minor": 5
}
