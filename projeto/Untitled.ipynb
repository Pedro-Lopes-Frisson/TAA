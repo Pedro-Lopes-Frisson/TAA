{
 "cells": [
  {
   "cell_type": "code",
   "execution_count": null,
   "id": "7bb7fa67",
   "metadata": {},
   "outputs": [],
   "source": [
    "import math\n",
    "import numpy as np\n",
    "import pandas as pd\n",
    "import seaborn as sns\n",
    "import matplotlib.pyplot as plt\n",
    "import hashlib"
   ]
  },
  {
   "cell_type": "code",
   "execution_count": null,
   "id": "ceb56fa3",
   "metadata": {},
   "outputs": [],
   "source": [
    "# Importing Classifier Modules\n",
    "from sklearn.linear_model import LogisticRegression\n",
    "from sklearn.svm import SVC, LinearSVC\n",
    "from sklearn.neighbors import KNeighborsClassifier\n",
    "from sklearn.tree import DecisionTreeClassifier\n",
    "from sklearn.ensemble import RandomForestClassifier\n",
    "from sklearn.naive_bayes import GaussianNB\n",
    "from sklearn.linear_model import Perceptron\n",
    "from sklearn.linear_model import SGDClassifier\n",
    "from sklearn.neural_network import MLPClassifier\n",
    "\n",
    "from sklearn.model_selection import train_test_split\n",
    "from sklearn.metrics import accuracy_score\n",
    "from sklearn.metrics import classification_report, confusion_matrix\n",
    "from sklearn import preprocessing"
   ]
  },
  {
   "cell_type": "code",
   "execution_count": null,
   "id": "6cc78b0a",
   "metadata": {},
   "outputs": [],
   "source": [
    "pokemon = pd.read_csv(\"pokemon.csv\") # Dataset pokemon stats\n",
    "combats = pd.read_csv(\"combats.csv\") # Datas:qXet pokemon battles and who won\n",
    "\n",
    "pokemon[\"Type 2\"] = pokemon[\"Type 2\"].fillna(\"NA\")\n",
    "pokemon.head()\n"
   ]
  },
  {
   "cell_type": "code",
   "execution_count": null,
   "id": "1735c3a3",
   "metadata": {},
   "outputs": [],
   "source": [
    "pokemon.columns"
   ]
  },
  {
   "cell_type": "markdown",
   "id": "5fd0b3a1",
   "metadata": {},
   "source": [
    "# Data preprocessing\n",
    "\n",
    "## First approach processing\n",
    "\n",
    "We wanted to make some comparisons according to our beliefs of what is more impactfull in the outcome of a pokemon battle and for that we need a base comparison, we guided this first approach to an approach seen in [here](https://github.com/kartikeya-rana/pokemon_battle/blob/master/Pokemon.ipynb), in this approach the individual opted to create a new data set that consisted of pokemon 1 stats followed by pokemon 2 statistics and finnaly the winner of the battle, 1 in case the first pokemon wins 0 otherwise, for simplicity purposes it is not possible to have a match with no winner.\n",
    "\n",
    "## Second approach processing\n",
    "\n",
    "After that we thought about instead of concatenating both pokemons statistics we wanted to make a subtraction of the first pokemon with the second and compare the new results with the first ones, we also eliminated both the generation and the Legendary information, since that we know that pokemons of different generation have the same overall raw power, and we also know that pokemon that are legendary do not have big boosts in their stats, and they do not win against every non legendary pokemon\n",
    "\n",
    "## Third approach processing\n",
    "\n",
    "This last approach had in account our knowledge of the domain, we believe that pokemons with higher speed and higher attack are more prone to win"
   ]
  },
  {
   "cell_type": "code",
   "execution_count": null,
   "id": "a377b081",
   "metadata": {},
   "outputs": [],
   "source": [
    "data_one_hot_encoding = []\n",
    "i = 0\n",
    "\n",
    "\n",
    "# for each tuple of combats.csv\n",
    "for t in combats.itertuples():\n",
    "    i += 1\n",
    "    first_pokemon = t[1] # get the first pokemon\n",
    "    second_pokemon = t[2] # get the second pokemon\n",
    "    winner = t[3]         # get the winner\n",
    "\n",
    "    x = pokemon.loc[pokemon[\"#\"]==first_pokemon].values[:, 2:][0] # get info about first pokemon\n",
    "    y = pokemon.loc[pokemon[\"#\"]==second_pokemon].values[:, 2:][0] # get info about second pokemon\n",
    "    #diff = (x-y)[:6] # difference between \"base stats hp....\"\n",
    "    z = np.concatenate((x,y)) \n",
    "    if winner == first_pokemon:\n",
    "        z = np.append(z, [0])\n",
    "    else:\n",
    "        z = np.append(z, [1])\n",
    "        \n",
    "        \n",
    "    data_one_hot_encoding.append(z)\n",
    "    if i > 5000:\n",
    "        break\n",
    "    \n",
    "data_one_hot_encoding = np.asarray(data_one_hot_encoding)\n"
   ]
  },
  {
   "cell_type": "code",
   "execution_count": null,
   "id": "20047d70",
   "metadata": {},
   "outputs": [],
   "source": [
    "data_diff_base_stats = []\n",
    "i = 0\n",
    "\n",
    "\n",
    "# for each tuple of combats.csv\n",
    "for t in combats.itertuples():\n",
    "    i += 1\n",
    "    first_pokemon = t[1] # get the first pokemon\n",
    "    second_pokemon = t[2] # get the second pokemon\n",
    "    winner = t[3]         # get the winner\n",
    "    \n",
    "    x = pokemon.loc[pokemon[\"#\"]==first_pokemon].values[:, 2:][0] # get info about first pokemon\n",
    "    y = pokemon.loc[pokemon[\"#\"]==second_pokemon].values[:, 2:][0] # get info about second pokemon\n",
    "    diff = (x[2:9]-y[2:9]) # difference between \"base stats hp....\"\n",
    "    \n",
    "    z = []\n",
    "    z = np.append(diff,z,0)\n",
    "    \n",
    "\n",
    "    if winner == first_pokemon:\n",
    "        z = np.append(z, [0])\n",
    "    else:\n",
    "        z = np.append(z, [1])\n",
    "        \n",
    "    data_diff_base_stats.append(z)\n",
    "    if i > 5000:\n",
    "        break\n",
    "    \n",
    "data_diff_base_stats = np.asarray(data_diff_base_stats)\n",
    "data_diff_base_stats = data_diff_base_stats[:, :-1].astype(int)\n",
    "\n",
    "print(data_diff_base_stats[0])\n",
    "print(pokemon.columns)"
   ]
  },
  {
   "cell_type": "code",
   "execution_count": null,
   "id": "b68d4618",
   "metadata": {},
   "outputs": [],
   "source": [
    "pokemon_with_types = pokemon.copy()\n",
    "types_list = [x for x in pokemon[\"Type 2\"].unique()] + [x for x in pokemon[\"Type 1\"].unique()]\n",
    "\n",
    "types_list = list(set(types_list))\n",
    "\n",
    "print(types_list.remove(\"NA\"))\n",
    "# make NA -> 0\n",
    "types_list = [\"NA\"] + types_list\n",
    "\n",
    "types_map = { x : types_list.index(x) for x in types_list}\n",
    "\n",
    "pokemon_with_types[\"Type 1\"] = pokemon_with_types[\"Type 1\"].map(types_map)\n",
    "pokemon_with_types[\"Type 2\"] = pokemon_with_types[\"Type 2\"].map(types_map)\n",
    "\n",
    "pokemon.head()\n",
    "\n",
    "print(types_map)\n",
    "print(types_list)"
   ]
  },
  {
   "cell_type": "code",
   "execution_count": null,
   "id": "d3425ec6",
   "metadata": {},
   "outputs": [],
   "source": [
    "data_with_types = []\n",
    "i = 0\n",
    "\n",
    "\n",
    "# for each tuple of combats.csv\n",
    "for t in combats.itertuples():\n",
    "    i += 1\n",
    "    first_pokemon = t[1] # get the first pokemon\n",
    "    second_pokemon = t[2] # get the second pokemon\n",
    "    winner = t[3]         # get the winner\n",
    "\n",
    "    x = pokemon_with_types.loc[pokemon[\"#\"]==first_pokemon]\n",
    "    x = x.drop(columns=[\"Name\",\"#\"]).values[0]\n",
    "    y = pokemon_with_types.loc[pokemon[\"#\"]==second_pokemon].drop(columns=[\"Name\",\"#\"]).values[0]\n",
    "    \n",
    "    \n",
    "    z = np.concatenate((x,y)) \n",
    "    \n",
    "    if winner == first_pokemon:\n",
    "        z = np.append(z, [0])\n",
    "    else:\n",
    "        z = np.append(z, [1])\n",
    "        \n",
    "    data_with_types.append(z)\n",
    "    if i > 5000:\n",
    "        break\n",
    "    \n",
    "data_with_types = np.asarray(data_with_types)\n",
    "data_with_types= pd.DataFrame(data_with_types, columns=[\n",
    "       'Type 1', 'Type 2', 'HP', 'Attack', 'Defense', 'Sp. Atk',\n",
    "       'Sp. Def', 'Speed', 'Generation', 'Legendary' ,\n",
    "       'Type 1', 'Type 2', 'HP', 'Attack', 'Defense', 'Sp. Atk',\n",
    "       'Sp. Def', 'Speed', 'Generation', 'Legendary','Win'] )\n",
    "\n",
    "data_with_types = data_with_types.astype({\n",
    "       'Type 1':'int32', 'Type 2':'int32', 'HP':'int32', 'Attack':'int32', 'Defense':'int32', 'Sp. Atk':'int32',\n",
    "       'Sp. Def':'int32', 'Speed':'int32', 'Generation':'int32', 'Legendary':'int32' ,\n",
    "       'Type 1':'int32', 'Type 2':'int32', 'HP':'int32', 'Attack':'int32', 'Defense':'int32', 'Sp. Atk':'int32',\n",
    "       'Sp. Def':'int32', 'Speed':'int32', 'Generation':'int32', 'Legendary':'int32','Win':'int32' })\n",
    "\n",
    "y = data_with_types[\"Win\"]\n",
    "\n",
    "print(y)\n",
    "\n",
    "\n"
   ]
  },
  {
   "cell_type": "code",
   "execution_count": null,
   "id": "1aff22fe",
   "metadata": {},
   "outputs": [],
   "source": [
    "data_with_types.head()"
   ]
  },
  {
   "cell_type": "markdown",
   "id": "87d307f0",
   "metadata": {},
   "source": [
    "### Data correlation number of wins\n",
    "\n",
    "\n",
    "number of wins is correlated with speed and attack being special attack and defense are also important factors as well as being legendary\n",
    "Contrary to my beliefs generations are quite well balanced,  since there is almos no correlation between the 2\n",
    "We can also see that the base stats do not have much correlation with generation, therefore pokemons that belong to diferent generations are on an equal foot in terms of base power.\n",
    "\n",
    "### Data correlation legendary or not\n",
    "Once again through this correlation heatmap it is possible to say that generation as no important role to classify a pokemon as legendary, one thing that strikes out is Sp. Attack and Attack as well as Sp. Defense  this seem to be somehow correlated to classifing a pokemon as legendary or not"
   ]
  },
  {
   "cell_type": "code",
   "execution_count": null,
   "id": "cdca23d4",
   "metadata": {},
   "outputs": [],
   "source": [
    "unique_ids=pokemon['#']\n",
    "wins_by_id = []\n",
    "for _id in unique_ids:\n",
    "    wins_by_id.append([_id ,(combats[\"Winner\"] == _id).sum() ])\n",
    "    \n",
    "wins_by_id = np.asarray(wins_by_id)\n",
    "\n",
    "pokemon[\"Wins\"] = wins_by_id[:,1]\n",
    "pokemon[\"Legendary\"] = pokemon[\"Legendary\"].astype(int)\n",
    "\n",
    "\n"
   ]
  },
  {
   "cell_type": "code",
   "execution_count": null,
   "id": "d438be70",
   "metadata": {},
   "outputs": [],
   "source": [
    "\n",
    "plt.figure(figsize=(20,8))\n",
    "sns.heatmap(pokemon.corr(),square=True, vmin=-1, vmax=1, annot=True)"
   ]
  },
  {
   "cell_type": "markdown",
   "id": "43b1fc9e",
   "metadata": {},
   "source": [
    "### Data correlation number of wins\n",
    "\n",
    "\n",
    "number of wins is correlated with speed and attack being special attack and defense are also important factors as well as being legendary\n",
    "Contrary to my beliefs generations are quite well balanced,  since there is almos no correlation between the 2\n",
    "We can also see that the base stats do not have much correlation with generation, therefore pokemons that belong to diferent generations are on an equal foot in terms of base power.\n",
    "\n",
    "### Data correlation legendary or not\n",
    "Once again through this correlation heatmap it is possible to say that generation as no important role to classify a pokemon as legendary, one thing that strikes out is Sp. Attack and Attack as well as Sp. Defense  this seem to be somehow correlated to classifing a pokemon as legendary or not"
   ]
  },
  {
   "cell_type": "markdown",
   "id": "39777ce9",
   "metadata": {},
   "source": [
    "# Graph that shows the correlation between number of wins and speed\n",
    "\n",
    "Overall the speed of the pokemon is more impactfull in the outcome of battle than most of the other attributes."
   ]
  },
  {
   "cell_type": "code",
   "execution_count": null,
   "id": "7c56167b",
   "metadata": {},
   "outputs": [],
   "source": [
    "#boxplot of Attack vs. Legendary\n",
    "plt.figure(figsize=(8, 4))\n",
    "sns.boxplot(x='Legendary',y='Wins',data=pokemon, palette='rainbow')\n",
    "\n",
    "#stripplot of speed Wins relation\n",
    "plt.figure(figsize=(20,8))\n",
    "speed_wins = pokemon[['Speed','Wins']].groupby(['Speed'], as_index=False).max().set_index('Speed')\n",
    "speed_wins.sort_values(by='Speed',ascending=True).plot(kind='line')\n",
    "#stripplot of Attack vs. Legendary, palette='rainbow'\n",
    "plt.figure(figsize=(20,8))\n",
    "speed_wins = pokemon[['Attack','Wins']].groupby(['Attack'], as_index=False).max().set_index('Attack')\n",
    "speed_wins.sort_values(by='Attack',ascending=True).plot(kind='line')\n"
   ]
  },
  {
   "cell_type": "markdown",
   "id": "f5a3f35b",
   "metadata": {},
   "source": [
    "# 1 type pokemon go brr cause strong\n"
   ]
  },
  {
   "cell_type": "code",
   "execution_count": null,
   "id": "d5108152",
   "metadata": {},
   "outputs": [],
   "source": [
    "type_1 = pokemon[['Type 1','Wins']].groupby(['Type 1'], as_index=False).max().set_index('Type 1')\n",
    "type_1.sort_values(by='Wins',ascending=False).plot(kind='bar')\n",
    "\n",
    "type_2 = pokemon[['Type 2','Wins']].groupby(['Type 2'], as_index=False).max().set_index('Type 2')\n",
    "type_2.sort_values(by='Wins',ascending=False).plot(kind='bar')"
   ]
  },
  {
   "cell_type": "code",
   "execution_count": null,
   "id": "a641bb25",
   "metadata": {},
   "outputs": [],
   "source": [
    "plt.figure(figsize=(48, 12))\n",
    "plt.xlabel(\"Name\")\n",
    "plt.ylabel(\"Wins\")\n",
    "plt.bar(pokemon['Name'][:20], pokemon['Wins'][:20])"
   ]
  },
  {
   "cell_type": "code",
   "execution_count": null,
   "id": "7698899a",
   "metadata": {},
   "outputs": [],
   "source": [
    "\n",
    "type_1 = pokemon[['Attack','Wins']].groupby(['Attack'], as_index=False).max().set_index('Attack')\n",
    "type_1.sort_values(by='Wins',ascending=True).plot(kind='bar', figsize=(23,8)).set_ylabel(\"Wins\")\n",
    "#Number of wins is directly proportional too attack damage"
   ]
  },
  {
   "cell_type": "code",
   "execution_count": null,
   "id": "6c18b81d",
   "metadata": {},
   "outputs": [],
   "source": [
    "type_1 = pokemon[['Speed','Wins']].groupby(['Speed'], as_index=False).max().set_index('Speed')\n",
    "type_1.sort_values(by='Wins',ascending=True).plot(kind='bar', figsize=(40,15))\n",
    "#Number of wins is directly proportional too Speed\n",
    "type_1 = pokemon[['Speed','Wins']].groupby(['Speed'], as_index=False).max().set_index('Speed')\n",
    "type_1.sort_values(by='Speed',ascending=True).plot(kind='line', figsize=(40,15))\n",
    "#Number of wins is directly proportional too Speed"
   ]
  },
  {
   "cell_type": "markdown",
   "id": "55cb8a12",
   "metadata": {},
   "source": [
    "# Data PreProccessing\n",
    "\n",
    "This dataset contains categorical features therefore we need to solve this by either mapping it to some number, like we are doing it here or we can use one hot encoding or feature hashing.\n",
    "One Hot Encoding might be very overwelming as well as feature hashing, since there are 18 different types, here we must include NA since that some pokemons don't have a specified type 2, and if we use this algorithms we need to include a few more columns, in the case of one hot encoding we must include 18 x 2 columns, 36, 36 more columns for our algorithm to use and to calculate coeficients for them.\n",
    "\n",
    "So we opted with the easy way out and we created an hashmap containg all the unique types and in the end we map those categorical features into values ranging from 0 to 18.\n",
    "\n",
    "\n"
   ]
  },
  {
   "cell_type": "markdown",
   "id": "a67aa97b",
   "metadata": {},
   "source": [
    "# Classifier Results Not Having in Account Types\n",
    "As we know types take an important role in pokemon battles, for example a electric pokemon deals 2 times more damage to an water pokemon than to a fire pokemon and to times less damage to a rock pokemon, this interactions might prove challenging to some classification algorithms."
   ]
  },
  {
   "cell_type": "code",
   "execution_count": null,
   "id": "ffbd05e1",
   "metadata": {},
   "outputs": [],
   "source": [
    "pokemon.columns\n",
    "print(data_diff_base_stats[0])\n",
    "print(data_diff_base_stats[1])\n",
    "print(data_diff_base_stats[2])\n",
    "print(data_diff_base_stats[3])\n",
    "print(data_diff_base_stats[4])"
   ]
  },
  {
   "cell_type": "code",
   "execution_count": null,
   "id": "ad5a1806",
   "metadata": {},
   "outputs": [],
   "source": [
    "data_pd_frame = pd.DataFrame(data_diff_base_stats, columns=[\"HP Diff\", \"Attack Diff\", \"Defens Diff\", \"Sp. Atk diff\", \"Sp. Def dif\", \"Speed diff\", \"Win\" ])\n",
    "for column in data_pd_frame.columns:\n",
    "    data_pd_frame[column] = data_pd_frame[column].astype(int)"
   ]
  },
  {
   "cell_type": "code",
   "execution_count": null,
   "id": "50d48f4e",
   "metadata": {},
   "outputs": [],
   "source": [
    "data_pd_frame.dtypes"
   ]
  },
  {
   "cell_type": "code",
   "execution_count": null,
   "id": "ef3ab41c",
   "metadata": {},
   "outputs": [],
   "source": [
    "X_diff_stats = data_pd_frame.drop(columns=[\"Win\"]).values\n",
    "\n",
    "X_diff_train, X_diff_test, y_train, y_test = train_test_split(X_diff_stats , y, test_size=0.25, random_state=42)"
   ]
  },
  {
   "cell_type": "code",
   "execution_count": null,
   "id": "ba59bb27",
   "metadata": {},
   "outputs": [],
   "source": [
    "\n",
    "number_of_rows = data_pd_frame.shape[0]\n",
    "clf = LogisticRegression(max_iter=10000)\n",
    "clf.fit(X_diff_train, y_train)\n",
    "y_pred_log_reg = clf.predict(X_test)\n",
    "acc_log_reg = round( clf.score(X_test, y_test) * 100, 2)\n",
    "print(str(acc_log_reg) + ' percent')\n",
    "\n",
    "\n"
   ]
  },
  {
   "cell_type": "code",
   "execution_count": null,
   "id": "7c07d765",
   "metadata": {},
   "outputs": [],
   "source": [
    "pd.DataFrame(zip(data_pd_frame.columns, np.transpose(clf.coef_[0])), columns=['features', 'coef']) "
   ]
  },
  {
   "cell_type": "code",
   "execution_count": null,
   "id": "57c895fb",
   "metadata": {},
   "outputs": [],
   "source": [
    "X_Most_Imp_Features = data_pd_frame.drop(columns=[\"HP Diff\", \"Sp. Atk diff\", \"Sp. Def dif\", \"Legendary\", \"Win\"])\n",
    "\n",
    "X_train, X_test, y_train, y_test = train_test_split(X_Most_Imp_Features, y, test_size=0.25, random_state=42)\n",
    "randomFlorestclf = RandomForestClassifier(n_estimators=100)\n",
    "model = randomFlorestclf.fit(X_train,y_train)\n",
    "pred = model.predict(X_test)\n",
    "# print('Accuracy of {}:'.format(name), accuracy_score(pred, y_test))\n",
    "print('Accuracy :', accuracy_score(pred, y_test))\n",
    "print(classification_report(y_test, pred))"
   ]
  },
  {
   "cell_type": "code",
   "execution_count": null,
   "id": "46a41229",
   "metadata": {},
   "outputs": [],
   "source": [
    "\n",
    "clf = LogisticRegression(C=100,max_iter=10000)\n",
    "clf.fit(X_train, y_train)\n",
    "y_pred_log_reg = clf.predict(X_test)\n",
    "acc_log_reg = round( clf.score(X_test, y_test) * 100, 2)\n",
    "print(str(acc_log_reg) + ' percent')"
   ]
  },
  {
   "cell_type": "code",
   "execution_count": null,
   "id": "8db5e5e0",
   "metadata": {},
   "outputs": [],
   "source": [
    "\n",
    "pokemon[\"Type 1\"] = pokemon[\"Type 1\"].map(map_Type_2)\n",
    "pokemon[\"Type 2\"] = pokemon[\"Type 2\"].map(map_Type_2)\n",
    "\n",
    "pokemon.head()\n"
   ]
  },
  {
   "cell_type": "code",
   "execution_count": null,
   "id": "4fc56ef1",
   "metadata": {},
   "outputs": [],
   "source": [
    "\n",
    "X_train, X_test, y_train, y_test = train_test_split(X, y, test_size=0.25, random_state=42)"
   ]
  },
  {
   "cell_type": "code",
   "execution_count": null,
   "id": "7227ce27",
   "metadata": {},
   "outputs": [],
   "source": [
    "\n",
    "clf = RandomForestClassifier(n_estimators=100)\n",
    "model = clf.fit(X_train[:30500],y_train[:30500])\n",
    "pred = model.predict(X_test)\n",
    "# print('Accuracy of {}:'.format(name), accuracy_score(pred, y_test))\n",
    "print('Accuracy :', accuracy_score(pred, y_test))\n",
    "print(classification_report(y_test, pred))\n",
    "\n",
    "\n",
    "pred = model.predict(X_train[30500:])\n",
    "# print('Accuracy of {}:'.format(name), accuracy_score(pred, y_test))\n",
    "print('Accuracy :', accuracy_score(pred, y_train[30500:]))\n",
    "print(classification_report(y_train[30500:], pred))"
   ]
  },
  {
   "cell_type": "markdown",
   "id": "c77ca187",
   "metadata": {},
   "source": [
    "# Same Dataset but know the winner pokemon stats stay in the first few colums\n",
    "\n",
    "As we can see next by ordering columns in such way that the stats of the winner pokemon appear first will result in a way worse classifier, therefore is better to not use any process of ordering. Types are included"
   ]
  },
  {
   "cell_type": "code",
   "execution_count": null,
   "id": "2b95f2e5",
   "metadata": {},
   "outputs": [],
   "source": [
    "data = []\n",
    "i = 0\n",
    "\n",
    "\n",
    "# for each tuple of combats.csv\n",
    "for t in combats.itertuples():\n",
    "    i += 1\n",
    "    first_pokemon = t[1] # get the first pokemon\n",
    "    second_pokemon = t[2] # get the second pokemon\n",
    "    winner = t[3]         # get the winner\n",
    "\n",
    "    x = pokemon.loc[pokemon[\"#\"]==first_pokemon].values[:, 2:-1][0] # get info about first pokemon\n",
    "    y = pokemon.loc[pokemon[\"#\"]==second_pokemon].values[:, 2:-1][0] # get info about second pokemon\n",
    "    diff = (x-y)[:6] # difference between \"base stats hp....\"\n",
    "    \n",
    "    z = np.concatenate((x,y)) \n",
    "    \n",
    "    if winner == first_pokemon:\n",
    "        z = np.append(np.concatenate((x,y)), [0])\n",
    "    else:\n",
    "        z = np.append(np.concatenate((x,y)), [1])\n",
    "        \n",
    "    data.append(z)\n",
    "    if i > 5000:\n",
    "        break\n",
    "    \n",
    "data = np.asarray(data)\n",
    "X = data[:, :-1].astype(int)\n",
    "y = data[:, -1].astype(int)\n",
    "\n"
   ]
  },
  {
   "cell_type": "code",
   "execution_count": null,
   "id": "73fd2224",
   "metadata": {},
   "outputs": [],
   "source": [
    "print(data[0])"
   ]
  },
  {
   "cell_type": "code",
   "execution_count": null,
   "id": "ef8d2cd1",
   "metadata": {},
   "outputs": [],
   "source": [
    "\n",
    "print(pokemon.columns)\n",
    "\n",
    "X = data[:, :-1].astype(int)\n",
    "y = data[:, -1].astype(int)\n",
    "\n",
    "print(X)\n",
    "X_train, X_test, y_train, y_test = train_test_split(X, y, test_size=0.25, random_state=42)\n",
    "\n",
    "clf = LogisticRegression(C=0.1,max_iter=10000)\n",
    "clf.fit(X_train, y_train)\n",
    "y_pred_log_reg = clf.predict(X_test)\n",
    "acc_log_reg = round( clf.score(X_test, y_test) * 100, 2)\n",
    "print(str(acc_log_reg) + ' percent')\n",
    "\n",
    "pd.DataFrame(zip(data_pd_frame.columns, np.transpose(clf.coef_[0])), columns=['features', 'coef']) "
   ]
  },
  {
   "cell_type": "code",
   "execution_count": null,
   "id": "b755055b",
   "metadata": {},
   "outputs": [],
   "source": [
    "clf = RandomForestClassifier(n_estimators=100)\n",
    "model = clf.fit(X_train, y_train)\n",
    "pred = model.predict(X_test)\n",
    "# print('Accuracy of {}:'.format(name), accuracy_score(pred, y_test))\n",
    "print('Accuracy :', accuracy_score(pred, y_test))\n",
    "print(classification_report(y_test, pred))\n",
    "\n",
    "\n"
   ]
  },
  {
   "cell_type": "markdown",
   "id": "9fc6a52d",
   "metadata": {},
   "source": [
    "# Same Dataset but know we keep the original place for each pokemon stat\n"
   ]
  },
  {
   "cell_type": "code",
   "execution_count": null,
   "id": "b7a04a0c",
   "metadata": {},
   "outputs": [],
   "source": [
    "print(data[0])"
   ]
  },
  {
   "cell_type": "code",
   "execution_count": null,
   "id": "9a0e639b",
   "metadata": {},
   "outputs": [],
   "source": [
    "\n",
    "\n",
    "print(pokemon.columns)\n",
    "\n",
    "X = data[:, :-1].astype(int)\n",
    "y = data[:, -1].astype(int)\n",
    "\n",
    "print(X)\n",
    "X_train, X_test, y_train, y_test = train_test_split(X, y, test_size=0.25, random_state=42)\n",
    "\n",
    "clf = LogisticRegression(C=0.1,max_iter=10000)\n",
    "clf.fit(X_train, y_train)\n",
    "y_pred_log_reg = clf.predict(X_test)\n",
    "acc_log_reg = round( clf.score(X_test, y_test) * 100, 2)\n",
    "print(str(acc_log_reg) + ' percent')"
   ]
  },
  {
   "cell_type": "code",
   "execution_count": null,
   "id": "5e839e59",
   "metadata": {},
   "outputs": [],
   "source": [
    "clf = MLPClassifier(solver='lbfgs', alpha=1e-5, hidden_layer_sizes=(10, X.shape[1]), random_state=1, max_iter=10000)\n",
    "clf.fit(X, y)"
   ]
  },
  {
   "cell_type": "code",
   "execution_count": null,
   "id": "5c05f5ef",
   "metadata": {},
   "outputs": [],
   "source": [
    "model = clf.fit(X_train, y_train)\n",
    "pred = model.predict(X_test)\n",
    "# print('Accuracy of {}:'.format(name), accuracy_score(pred, y_test))\n",
    "print('Accuracy :', accuracy_score(pred, y_test))\n",
    "print(classification_report(y_test, pred))\n"
   ]
  },
  {
   "cell_type": "code",
   "execution_count": null,
   "id": "ffc3cd75",
   "metadata": {},
   "outputs": [],
   "source": [
    "conf_matrix = confusion_matrix(y_test,pred)\n",
    "print(classification_report(y_test,pred))"
   ]
  },
  {
   "cell_type": "code",
   "execution_count": null,
   "id": "12d63484",
   "metadata": {},
   "outputs": [],
   "source": [
    "sns.heatmap(conf_matrix, square=True, vmin=-y.shape[0], vmax=y.shape[0], annot=True)\n"
   ]
  },
  {
   "cell_type": "code",
   "execution_count": null,
   "id": "c1268b53",
   "metadata": {},
   "outputs": [],
   "source": [
    "\n",
    "# limit to categorical data using df.select_dtypes()\n",
    "data_one_hot_encoding = pd.DataFrame( data_one_hot_encoding,columns=['Type 1', 'Type 2', 'HP', 'Attack',\n",
    "                                                   'Defense', 'Sp. Atk','Sp. Def', 'Speed',\n",
    "                                                   'Generation', 'Legendary', 'Type 1', 'Type 2',\n",
    "                                                   'HP', 'Attack',\n",
    "                                                   'Defense', 'Sp. Atk','Sp. Def', 'Speed',\n",
    "                                                   'Generation', 'Legendary', 'Winner'] )\n",
    "save = data_one_hot_encoding.copy()\n",
    "\n",
    "data_one_hot_encoding = data_one_hot_encoding.astype({'HP' : 'int32', 'Attack': 'int32',\n",
    "                                                      'Defense': 'int32','Sp. Atk': 'int32',\n",
    "                                                      'Sp. Def' : 'int32','Speed' : 'int32',\n",
    "                                                      'Generation': 'int32', 'Legendary': 'int32', 'Winner': 'int32'})\n",
    "print(data_one_hot_encoding.dtypes)\n",
    "X_objects = data_one_hot_encoding.select_dtypes(include=[object])\n",
    "X_objects.head(3)"
   ]
  },
  {
   "cell_type": "code",
   "execution_count": null,
   "id": "1075ce89",
   "metadata": {},
   "outputs": [],
   "source": [
    "\n",
    "# 1. INSTANTIATE\n",
    "# encode labels with value between 0 and n_classes-1.\n",
    "le = preprocessing.LabelEncoder()\n",
    "\n",
    "# 2/3. FIT AND TRANSFORM\n",
    "# use df.apply() to apply le.fit_transform to all columns\n",
    "X_objects_fitted = X_objects.apply(le.fit_transform)\n",
    "X_objects_fitted.head()\n",
    "\n",
    "# limit to categorical data using df.select_dtypes()\n",
    "enc = preprocessing.OneHotEncoder()\n",
    "\n",
    "# 2. FIT\n",
    "enc.fit(X_objects_fitted)\n",
    "\n",
    "# 3. Transform\n",
    "onehotlabels = enc.transform(X_objects_fitted).toarray()\n",
    "onehotlabels.shape\n",
    "panda_Hot = pd.DataFrame(onehotlabels)\n",
    "X_data_one_Hot = data_one_hot_encoding.drop(columns=[\"Winner\", \"Type 1\", \"Type 2\"])\n",
    "\n",
    "X_data_one_Hot.join(panda_Hot)"
   ]
  },
  {
   "cell_type": "code",
   "execution_count": null,
   "id": "69371859",
   "metadata": {},
   "outputs": [],
   "source": [
    "\n",
    "print(X_train.shape)\n",
    "print(y_train.shape)"
   ]
  },
  {
   "cell_type": "code",
   "execution_count": null,
   "id": "a39c4fa5",
   "metadata": {},
   "outputs": [],
   "source": [
    "clf = MLPClassifier(solver='lbfgs', alpha=1e-5, hidden_layer_sizes=(10, X_data_one_Hot.shape[1]), random_state=1, max_iter=10000)\n",
    "\n",
    "y = data_one_hot_encoding.Winner\n",
    "print(y.shape)\n",
    "X_train, X_test, y_train, y_test = train_test_split(X_data_one_Hot, y, test_size=0.25, random_state=42)\n",
    "\n",
    "model = clf.fit(X_train, y_train)\n",
    "pred = model.predict(X_test)\n",
    "# print('Accuracy of {}:'.format(name), accuracy_score(pred, y_test))\n",
    "print('Accuracy :', accuracy_score(pred, y_test))\n",
    "print(classification_report(y_test, pred))"
   ]
  },
  {
   "cell_type": "code",
   "execution_count": null,
   "id": "da54bfa8",
   "metadata": {},
   "outputs": [],
   "source": [
    "X_only_high_cor_features = X_data_one_Hot.drop(columns=[\"HP\", \"Sp. Atk\", \"Sp. Def\", \"Generation\", \"Legendary4\"])"
   ]
  }
 ],
 "metadata": {
  "kernelspec": {
   "display_name": "Python 3",
   "language": "python",
   "name": "python3"
  },
  "language_info": {
   "codemirror_mode": {
    "name": "ipython",
    "version": 3
   },
   "file_extension": ".py",
   "mimetype": "text/x-python",
   "name": "python",
   "nbconvert_exporter": "python",
   "pygments_lexer": "ipython3",
   "version": "3.8.8"
  }
 },
 "nbformat": 4,
 "nbformat_minor": 5
}
